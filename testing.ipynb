{
 "cells": [
  {
   "cell_type": "code",
   "execution_count": 1,
   "metadata": {},
   "outputs": [],
   "source": [
    "import statsmodels.api as sm\n",
    "import statsmodels.formula.api as smf\n",
    "import numpy as np\n",
    "import pandas as pd\n",
    "import matplotlib.pyplot as plt\n",
    "from sklearn.metrics import accuracy_score"
   ]
  },
  {
   "cell_type": "code",
   "execution_count": 2,
   "metadata": {},
   "outputs": [
    {
     "name": "stdout",
     "output_type": "stream",
     "text": [
      "    SUBDIVISION  YEAR   JAN   FEB   MAR    APR    MAY     JUN     JUL     AUG  \\\n",
      "0        KERALA  1901  28.7  44.7  51.6  160.0  174.7   824.6   743.0   357.5   \n",
      "1        KERALA  1902   6.7   2.6  57.3   83.9  134.5   390.9  1205.0   315.8   \n",
      "2        KERALA  1903   3.2  18.6   3.1   83.6  249.7   558.6  1022.5   420.2   \n",
      "3        KERALA  1904  23.7   3.0  32.2   71.5  235.7  1098.2   725.5   351.8   \n",
      "4        KERALA  1905   1.2  22.3   9.4  105.9  263.3   850.2   520.5   293.6   \n",
      "..          ...   ...   ...   ...   ...    ...    ...     ...     ...     ...   \n",
      "113      KERALA  2014   4.6  10.3  17.9   95.7  251.0   454.4   677.8   733.9   \n",
      "114      KERALA  2015   3.1   5.8  50.1  214.1  201.8   563.6   406.0   252.2   \n",
      "115      KERALA  2016   2.4   3.8  35.9  143.0  186.4   522.2   412.3   325.5   \n",
      "116     KERALA   2017   1.9   6.8   8.9   43.6  173.5   498.5   319.6   531.8   \n",
      "117      KERALA  2018  29.1  52.1  48.6  116.4  183.8   625.4  1048.5  1398.9   \n",
      "\n",
      "       SEP    OCT    NOV    DEC   ANNUAL RAINFALL  FLOODS  \n",
      "0    197.7  266.9  350.8   48.4            3248.6       1  \n",
      "1    491.6  358.4  158.3  121.5            3326.6       1  \n",
      "2    341.8  354.1  157.0   59.0            3271.2       1  \n",
      "3    222.7  328.1   33.9    3.3            3129.7       1  \n",
      "4    217.2  383.5   74.4    0.2            2741.6       0  \n",
      "..     ...    ...    ...    ...               ...     ...  \n",
      "113  298.8  355.5   99.5   47.2            3046.4       1  \n",
      "114  292.9  308.1  223.6   79.4            2600.6       0  \n",
      "115  173.2  225.9  125.4   23.6            2176.6       0  \n",
      "116  209.5  192.4   92.5   38.1            2117.1       0  \n",
      "117  423.6  356.1  125.4   65.1            4473.0       1  \n",
      "\n",
      "[118 rows x 16 columns]\n"
     ]
    }
   ],
   "source": [
    "df = pd.read_csv(\"kerala.csv\")\n",
    "df['FLOODS'].replace(['YES','NO'],[1,0],inplace=True)\n",
    "print(df)"
   ]
  },
  {
   "cell_type": "code",
   "execution_count": 3,
   "metadata": {},
   "outputs": [],
   "source": [
    "\n",
    "df_train = df.sample(round(len(df)*0.8))\n",
    "df_test = df.drop(df_train.index)\n",
    "\n",
    "formula= 'FLOODS ~ JAN+FEB+MAR+APR+MAY+JUN+JUL+AUG+SEP+OCT+NOV+DEC'\n",
    "  \n",
    "model = smf.glm(formula = formula, data=df,family=sm.families.Poisson()) \n",
    "result = model.fit()\n",
    "\n",
    "df_test_result=df_test.iloc[:,-1]"
   ]
  },
  {
   "cell_type": "code",
   "execution_count": 4,
   "metadata": {},
   "outputs": [
    {
     "name": "stdout",
     "output_type": "stream",
     "text": [
      "                 Generalized Linear Model Regression Results                  \n",
      "==============================================================================\n",
      "Dep. Variable:                 FLOODS   No. Observations:                  118\n",
      "Model:                            GLM   Df Residuals:                      105\n",
      "Model Family:                 Poisson   Df Model:                           12\n",
      "Link Function:                    Log   Scale:                          1.0000\n",
      "Method:                          IRLS   Log-Likelihood:                -82.659\n",
      "Date:                Mon, 24 Apr 2023   Deviance:                       45.318\n",
      "Time:                        17:38:22   Pearson chi2:                     37.8\n",
      "No. Iterations:                     5   Pseudo R-squ. (CS):             0.2620\n",
      "Covariance Type:            nonrobust                                         \n",
      "==============================================================================\n",
      "                 coef    std err          z      P>|z|      [0.025      0.975]\n",
      "------------------------------------------------------------------------------\n",
      "Intercept     -5.5216      1.033     -5.346      0.000      -7.546      -3.497\n",
      "JAN            0.0061      0.008      0.760      0.447      -0.010       0.022\n",
      "FEB           -0.0052      0.009     -0.558      0.577      -0.023       0.013\n",
      "MAR            0.0017      0.005      0.345      0.730      -0.008       0.011\n",
      "APR           -0.0002      0.003     -0.079      0.937      -0.006       0.006\n",
      "MAY            0.0012      0.001      1.440      0.150      -0.000       0.003\n",
      "JUN            0.0022      0.001      2.983      0.003       0.001       0.004\n",
      "JUL            0.0011      0.001      1.979      0.048    1.03e-05       0.002\n",
      "AUG            0.0010      0.001      1.659      0.097      -0.000       0.002\n",
      "SEP            0.0027      0.001      2.206      0.027       0.000       0.005\n",
      "OCT            0.0011      0.002      0.673      0.501      -0.002       0.004\n",
      "NOV            0.0038      0.002      2.282      0.022       0.001       0.007\n",
      "DEC            0.0017      0.004      0.446      0.655      -0.006       0.009\n",
      "==============================================================================\n"
     ]
    }
   ],
   "source": [
    "print(result.summary())"
   ]
  },
  {
   "cell_type": "code",
   "execution_count": 5,
   "metadata": {},
   "outputs": [
    {
     "name": "stdout",
     "output_type": "stream",
     "text": [
      "Accuracy: 0.8333333333333334\n"
     ]
    }
   ],
   "source": [
    "cek = result.predict(df_test)\n",
    "cek = round(cek)\n",
    "cek = cek.astype(int)\n",
    "print(\"Accuracy: \" + str(accuracy_score(cek, df_test_result)))"
   ]
  }
 ],
 "metadata": {
  "kernelspec": {
   "display_name": "Python 3",
   "language": "python",
   "name": "python3"
  },
  "language_info": {
   "codemirror_mode": {
    "name": "ipython",
    "version": 3
   },
   "file_extension": ".py",
   "mimetype": "text/x-python",
   "name": "python",
   "nbconvert_exporter": "python",
   "pygments_lexer": "ipython3",
   "version": "3.10.1"
  },
  "orig_nbformat": 4
 },
 "nbformat": 4,
 "nbformat_minor": 2
}
